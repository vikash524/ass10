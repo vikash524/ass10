{
 "cells": [
  {
   "cell_type": "code",
   "execution_count": 1,
   "id": "b21efa16-0b05-4275-8376-ad0fe9ef8fe8",
   "metadata": {},
   "outputs": [
    {
     "name": "stdout",
     "output_type": "stream",
     "text": [
      "Error: division by zero\n",
      "Error: division by zero\n",
      "No error occurred\n",
      "Finally block executed\n",
      "Custom Error occurred: This is a custom exception\n",
      "Custom Error occurred: This is a custom exception\n"
     ]
    }
   ],
   "source": [
    "# Q1\n",
    "# What is an Exception in Python? Write the difference between Exceptions and Syntax errors.\n",
    "\n",
    "# An Exception in Python is an error that occurs during the execution of a program.\n",
    "# Exceptions are raised when an error occurs during program execution and are handled by the program.\n",
    "# Syntax errors, on the other hand, occur when the parser detects an incorrect syntax in the code.\n",
    "\n",
    "# Q2\n",
    "# What happens when an exception is not handled? Explain with an example.\n",
    "\n",
    "# When an exception is not handled, it propagates up the call stack until it reaches the top-level of the program, resulting in the termination of the program.\n",
    "# Example:\n",
    "try:\n",
    "    result = 10 / 0\n",
    "except ZeroDivisionError as e:\n",
    "    print(\"Error:\", e)\n",
    "\n",
    "# Q3\n",
    "# Which Python statements are used to catch and handle exceptions? Explain with an example.\n",
    "\n",
    "# Python statements 'try', 'except', 'finally', and 'else' are used to catch and handle exceptions.\n",
    "# Example:\n",
    "try:\n",
    "    result = 10 / 0\n",
    "except ZeroDivisionError as e:\n",
    "    print(\"Error:\", e)\n",
    "else:\n",
    "    print(\"No error occurred\")\n",
    "\n",
    "# Q4\n",
    "# Explain with an example: try, except, else, finally, raise.\n",
    "\n",
    "# Example:\n",
    "try:\n",
    "    x = 10 / 2\n",
    "except ZeroDivisionError as e:\n",
    "    print(\"Error:\", e)\n",
    "else:\n",
    "    print(\"No error occurred\")\n",
    "finally:\n",
    "    print(\"Finally block executed\")\n",
    "\n",
    "# Q5\n",
    "# What are Custom Exceptions in Python? Why do we need Custom Exceptions? Explain with an example.\n",
    "\n",
    "# Custom Exceptions in Python are user-defined exception classes that allow programmers to define their own exception types.\n",
    "# We need Custom Exceptions to handle specific errors in our programs in a more structured way.\n",
    "# Example:\n",
    "class CustomError(Exception):\n",
    "    pass\n",
    "\n",
    "try:\n",
    "    raise CustomError(\"This is a custom exception\")\n",
    "except CustomError as e:\n",
    "    print(\"Custom Error occurred:\", e)\n",
    "\n",
    "# Q6\n",
    "# Create a custom exception class. Use this class to handle an exception.\n",
    "\n",
    "class CustomError(Exception):\n",
    "    def __init__(self, message):\n",
    "        self.message = message\n",
    "\n",
    "try:\n",
    "    raise CustomError(\"This is a custom exception\")\n",
    "except CustomError as e:\n",
    "    print(\"Custom Error occurred:\", e.message)\n"
   ]
  },
  {
   "cell_type": "code",
   "execution_count": null,
   "id": "cfcc5316-d84d-4484-9b99-9924edf9218f",
   "metadata": {},
   "outputs": [],
   "source": []
  }
 ],
 "metadata": {
  "kernelspec": {
   "display_name": "Python 3 (ipykernel)",
   "language": "python",
   "name": "python3"
  },
  "language_info": {
   "codemirror_mode": {
    "name": "ipython",
    "version": 3
   },
   "file_extension": ".py",
   "mimetype": "text/x-python",
   "name": "python",
   "nbconvert_exporter": "python",
   "pygments_lexer": "ipython3",
   "version": "3.10.8"
  }
 },
 "nbformat": 4,
 "nbformat_minor": 5
}
